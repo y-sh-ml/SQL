{
 "cells": [
  {
   "cell_type": "code",
   "execution_count": 1,
   "id": "89090424",
   "metadata": {},
   "outputs": [],
   "source": [
    "import pandas as pd\n",
    "import psycopg2\n",
    "import config"
   ]
  },
  {
   "cell_type": "code",
   "execution_count": 2,
   "id": "cfed74e1",
   "metadata": {},
   "outputs": [],
   "source": [
    "conn = psycopg2.connect(**config.connection_config)\n",
    "cur = conn.cursor()"
   ]
  },
  {
   "cell_type": "code",
   "execution_count": 3,
   "id": "a72d682d",
   "metadata": {},
   "outputs": [],
   "source": [
    "query = \"\"\"\n",
    "\n",
    "CREATE TABLE areas(\n",
    "code character varying,\n",
    "name text\n",
    ");\n",
    "\n",
    "\"\"\"\n",
    "\n",
    "cur.execute(query)\n",
    "conn.commit()"
   ]
  },
  {
   "cell_type": "code",
   "execution_count": 4,
   "id": "13c1a27c",
   "metadata": {},
   "outputs": [],
   "source": [
    "query = \"\"\"\n",
    "\n",
    "INSERT INTO areas (code, name) VALUES\n",
    " ('00', '全国'),\n",
    " ('10', '北海道'),\n",
    " ('20', '東北'),\n",
    " ('30', '関東'),\n",
    " ('40', '中部'),\n",
    " ('50', '近畿'),\n",
    " ('60', '中国'),\n",
    " ('70', '四国'),\n",
    " ('80', '九州') ;\n",
    "\n",
    "\"\"\"\n",
    "\n",
    "cur.execute(query)\n",
    "conn.commit()"
   ]
  },
  {
   "cell_type": "code",
   "execution_count": 5,
   "id": "01e24f7f",
   "metadata": {},
   "outputs": [
    {
     "data": {
      "text/html": [
       "<div>\n",
       "<style scoped>\n",
       "    .dataframe tbody tr th:only-of-type {\n",
       "        vertical-align: middle;\n",
       "    }\n",
       "\n",
       "    .dataframe tbody tr th {\n",
       "        vertical-align: top;\n",
       "    }\n",
       "\n",
       "    .dataframe thead th {\n",
       "        text-align: right;\n",
       "    }\n",
       "</style>\n",
       "<table border=\"1\" class=\"dataframe\">\n",
       "  <thead>\n",
       "    <tr style=\"text-align: right;\">\n",
       "      <th></th>\n",
       "      <th>code</th>\n",
       "      <th>name</th>\n",
       "    </tr>\n",
       "  </thead>\n",
       "  <tbody>\n",
       "    <tr>\n",
       "      <th>0</th>\n",
       "      <td>00</td>\n",
       "      <td>全国</td>\n",
       "    </tr>\n",
       "    <tr>\n",
       "      <th>1</th>\n",
       "      <td>10</td>\n",
       "      <td>北海道</td>\n",
       "    </tr>\n",
       "    <tr>\n",
       "      <th>2</th>\n",
       "      <td>20</td>\n",
       "      <td>東北</td>\n",
       "    </tr>\n",
       "    <tr>\n",
       "      <th>3</th>\n",
       "      <td>30</td>\n",
       "      <td>関東</td>\n",
       "    </tr>\n",
       "    <tr>\n",
       "      <th>4</th>\n",
       "      <td>40</td>\n",
       "      <td>中部</td>\n",
       "    </tr>\n",
       "    <tr>\n",
       "      <th>5</th>\n",
       "      <td>50</td>\n",
       "      <td>近畿</td>\n",
       "    </tr>\n",
       "    <tr>\n",
       "      <th>6</th>\n",
       "      <td>60</td>\n",
       "      <td>中国</td>\n",
       "    </tr>\n",
       "    <tr>\n",
       "      <th>7</th>\n",
       "      <td>70</td>\n",
       "      <td>四国</td>\n",
       "    </tr>\n",
       "    <tr>\n",
       "      <th>8</th>\n",
       "      <td>80</td>\n",
       "      <td>九州</td>\n",
       "    </tr>\n",
       "  </tbody>\n",
       "</table>\n",
       "</div>"
      ],
      "text/plain": [
       "  code name\n",
       "0   00   全国\n",
       "1   10  北海道\n",
       "2   20   東北\n",
       "3   30   関東\n",
       "4   40   中部\n",
       "5   50   近畿\n",
       "6   60   中国\n",
       "7   70   四国\n",
       "8   80   九州"
      ]
     },
     "execution_count": 5,
     "metadata": {},
     "output_type": "execute_result"
    }
   ],
   "source": [
    "query =\"\"\"\n",
    "\n",
    "SELECT * FROM  areas;\n",
    "\n",
    "\"\"\"\n",
    "\n",
    "pd.read_sql(query, con=conn)"
   ]
  },
  {
   "cell_type": "markdown",
   "id": "01cf91b2",
   "metadata": {},
   "source": [
    "### 参考文献"
   ]
  },
  {
   "cell_type": "markdown",
   "id": "add00b56",
   "metadata": {},
   "source": [
    "・[PandasのDataFrameでPostgreSQLに読み書きする方法](https://tanuhack.com/pandas-postgres-readto/)<br>\n",
    "・[PostgreSQLのデータをpandasに読み込んでみる](https://tanuhack.com/pandas-postgres-readto/)<br>\n",
    "・[importで別ファイルの変数を取得](https://qiita.com/sky11fur/items/d0b6bb94790351142adb)<br>\n",
    "・[PostgreSQLをPythonからpsycopg2を使って操作する](https://tdoc.info/blog/2012/12/05/psycopg2.html)"
   ]
  }
 ],
 "metadata": {
  "kernelspec": {
   "display_name": "Python 3",
   "language": "python",
   "name": "python3"
  },
  "language_info": {
   "codemirror_mode": {
    "name": "ipython",
    "version": 3
   },
   "file_extension": ".py",
   "mimetype": "text/x-python",
   "name": "python",
   "nbconvert_exporter": "python",
   "pygments_lexer": "ipython3",
   "version": "3.8.8"
  }
 },
 "nbformat": 4,
 "nbformat_minor": 5
}
