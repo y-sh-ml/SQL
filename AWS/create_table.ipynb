{
 "cells": [
  {
   "cell_type": "code",
   "execution_count": null,
   "id": "8debda60",
   "metadata": {},
   "outputs": [],
   "source": [
    "query = f\"\"\"\n",
    "\n",
    "CREATE TABLE {db_name}{tb_name}\n",
    "WITH (external_location='{location}/{tb_name}')\n",
    "AS\n",
    "\n",
    "SELECT\n",
    "  *\n",
    "FROM\n",
    "  database.user_master\n",
    "\n",
    "\"\"\"\n",
    "\n",
    "cursor.execute(query)"
   ]
  },
  {
   "cell_type": "code",
   "execution_count": null,
   "id": "b1aa4a2e",
   "metadata": {},
   "outputs": [],
   "source": [
    "query = f\"\"\"\n",
    "\n",
    "CREATE EXTERNAL TABLE\n",
    "IF NOT EXISTS\n",
    "  {db_name}.{tb_name}(\n",
    "  customer_id string,\n",
    "  sex string,\n",
    "  age int\n",
    "  )\n",
    "PARTITIONED BY\n",
    "  (datetime bigint)\n",
    "LOCATION\n",
    "  '{location}/ {tb_name}'\n",
    "\n",
    "\"\"\"\n",
    "\n",
    "cusor.execute(query)"
   ]
  },
  {
   "cell_type": "markdown",
   "id": "77f3fbb5",
   "metadata": {},
   "source": [
    "`LOCATION` は `''` で指定することに注意する。"
   ]
  }
 ],
 "metadata": {
  "kernelspec": {
   "display_name": "Python 3 (ipykernel)",
   "language": "python",
   "name": "python3"
  },
  "language_info": {
   "codemirror_mode": {
    "name": "ipython",
    "version": 3
   },
   "file_extension": ".py",
   "mimetype": "text/x-python",
   "name": "python",
   "nbconvert_exporter": "python",
   "pygments_lexer": "ipython3",
   "version": "3.11.5"
  }
 },
 "nbformat": 4,
 "nbformat_minor": 5
}
