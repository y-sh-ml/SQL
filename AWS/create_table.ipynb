{
 "cells": [
  {
   "cell_type": "code",
   "execution_count": null,
   "id": "8debda60",
   "metadata": {},
   "outputs": [],
   "source": [
    "query = f\"\"\"\n",
    "\n",
    "CREATE EXTERNAL TABLE\n",
    "IF NOT EXISTS\n",
    "  {db_name}.{tb_name}(\n",
    "  customer_id string,\n",
    "  sex string,\n",
    "  age int\n",
    "  )\n",
    "LOCATION\n",
    "  '{location}/ {tb_name}'\n",
    "\n",
    "\"\"\""
   ]
  },
  {
   "cell_type": "markdown",
   "id": "77f3fbb5",
   "metadata": {},
   "source": [
    "`LOCATION` は `''` で指定することに注意する。"
   ]
  }
 ],
 "metadata": {
  "kernelspec": {
   "display_name": "Python 3 (ipykernel)",
   "language": "python",
   "name": "python3"
  },
  "language_info": {
   "codemirror_mode": {
    "name": "ipython",
    "version": 3
   },
   "file_extension": ".py",
   "mimetype": "text/x-python",
   "name": "python",
   "nbconvert_exporter": "python",
   "pygments_lexer": "ipython3",
   "version": "3.11.5"
  }
 },
 "nbformat": 4,
 "nbformat_minor": 5
}
